{
 "cells": [
  {
   "cell_type": "markdown",
   "metadata": {
    "collapsed": true
   },
   "source": [
    ""
   ]
  },
  {
   "cell_type": "markdown",
   "metadata": {},
   "source": [
    "# Preprocessamentos\n",
    "## Tokenização manual\n",
    "#### Remoção de sinais gráficos e pontuação: [ ] ) ( @ # $ | , ! . : ; ?\n",
    "#### Foram preservadas palavras com híven intermediário\n",
    "\n",
    "## Remoção de Stop Words\n",
    "#### Através do corpus do nltk para português: nltk.corpus.stopwords.words('portuguese')\n",
    "\n",
    "## Stemming\n",
    "#### Através do stemmer do nltk para português: nltk.stem.RSLPStemmer()\n",
    "\n",
    "\n",
    "# Classificadores Utilizados\n",
    "## Naive Bayes\n",
    "## Entropia Máxima\n",
    "\n",
    "\n",
    "# Features\n",
    "## Total: 2κ features\n",
    "#### κ raízes (stems) de palavras mais frequentes (κ features)\n",
    "#### Frequência das κ palavras mais frequentes (κ features)\n",
    "\n",
    "\n",
    "# Dificuldades\n",
    "## Foram utilizadas técnicas para o português, mas há textos em inglês, e textos praticamente numéricos na amostra, o que gera muito ruído.\n",
    "\n",
    "\n",
    "# Resultados\n",
    "## κ = 1\n",
    "#### Naive Bayes: 0.407673860911\n",
    "#### Maximum Entropy: 0.428057553957\n",
    "\n",
    "## κ = 2\n",
    "#### Naive Bayes: 0.468824940048\n",
    "#### Maximum Entropy: 0.44964028777\n",
    "\n",
    "## κ = 5\n",
    "#### Naive Bayes: 0.465227817746\n",
    "#### Maximum Entropy: 0.488009592326\n",
    "\n",
    "## κ = 10\n",
    "#### Naive Bayes: 0.47721822542\n",
    "#### Maximum Entropy: 0.509592326139\n",
    "\n",
    "## κ = 20\n",
    "#### Naive Bayes: 0.448441247002\n",
    "#### Maximum Entropy: 0.494004796163\n",
    "\n",
    "\n",
    "# Conclusões\n",
    "## Os classificadores são influenciados pela quantidade de features.\n",
    "\n",
    "## A não utilização da frequência das palavras reduziu drasticamente a acurácia do classificador (aproximadamente de 50% para 20%).\n",
    "\n",
    "## A segunda palavra tem grande impacto; as demais, não tanto.\n",
    "\n",
    "## A feature κ-palavras mais frequentes aumenta a acurácia do classificador proporcionalmente a κ apenas até o ponto em que a quantidade de palavras distintas se torna inferior a κ, ou seja, o vocabulário dos textos não é diversificado o bastante, e portanto, não existe a quantidade de radicais esperada: κ (nesses casos, utilizou-se todo o conjunto obtido)."
   ]
  },
  {
   "cell_type": "code",
   "execution_count": 6,
   "metadata": {},
   "outputs": [
    {
     "name": "stdout",
     "output_type": "stream",
     "text": [
      "0.407673860911\n  ==> Training (100 iterations)\n\n      Iteration    Log Likelihood    Accuracy\n      ---------------------------------------\n"
     ]
    },
    {
     "name": "stdout",
     "output_type": "stream",
     "text": [
      "             1          -2.63906        0.018\n"
     ]
    },
    {
     "name": "stdout",
     "output_type": "stream",
     "text": [
      "             2          -1.27541        0.659\n"
     ]
    },
    {
     "name": "stdout",
     "output_type": "stream",
     "text": [
      "             3          -1.00982        0.751\n"
     ]
    },
    {
     "name": "stdout",
     "output_type": "stream",
     "text": [
      "             4          -0.85193        0.759\n"
     ]
    },
    {
     "name": "stdout",
     "output_type": "stream",
     "text": [
      "             5          -0.75088        0.765\n"
     ]
    },
    {
     "name": "stdout",
     "output_type": "stream",
     "text": [
      "             6          -0.68183        0.769\n"
     ]
    },
    {
     "name": "stdout",
     "output_type": "stream",
     "text": [
      "             7          -0.63193        0.777\n"
     ]
    },
    {
     "name": "stdout",
     "output_type": "stream",
     "text": [
      "             8          -0.59426        0.779\n"
     ]
    },
    {
     "name": "stdout",
     "output_type": "stream",
     "text": [
      "             9          -0.56480        0.785\n"
     ]
    },
    {
     "name": "stdout",
     "output_type": "stream",
     "text": [
      "            10          -0.54111        0.785\n"
     ]
    },
    {
     "name": "stdout",
     "output_type": "stream",
     "text": [
      "            11          -0.52164        0.787\n"
     ]
    },
    {
     "name": "stdout",
     "output_type": "stream",
     "text": [
      "            12          -0.50532        0.787\n"
     ]
    },
    {
     "name": "stdout",
     "output_type": "stream",
     "text": [
      "            13          -0.49143        0.785\n"
     ]
    },
    {
     "name": "stdout",
     "output_type": "stream",
     "text": [
      "            14          -0.47946        0.787\n"
     ]
    },
    {
     "name": "stdout",
     "output_type": "stream",
     "text": [
      "            15          -0.46903        0.787\n"
     ]
    },
    {
     "name": "stdout",
     "output_type": "stream",
     "text": [
      "            16          -0.45985        0.785\n"
     ]
    },
    {
     "name": "stdout",
     "output_type": "stream",
     "text": [
      "            17          -0.45169        0.785\n"
     ]
    },
    {
     "name": "stdout",
     "output_type": "stream",
     "text": [
      "            18          -0.44440        0.785\n"
     ]
    },
    {
     "name": "stdout",
     "output_type": "stream",
     "text": [
      "            19          -0.43784        0.787\n"
     ]
    },
    {
     "name": "stdout",
     "output_type": "stream",
     "text": [
      "            20          -0.43190        0.788\n"
     ]
    },
    {
     "name": "stdout",
     "output_type": "stream",
     "text": [
      "            21          -0.42649        0.788\n"
     ]
    },
    {
     "name": "stdout",
     "output_type": "stream",
     "text": [
      "            22          -0.42155        0.788\n"
     ]
    },
    {
     "name": "stdout",
     "output_type": "stream",
     "text": [
      "            23          -0.41700        0.788\n"
     ]
    },
    {
     "name": "stdout",
     "output_type": "stream",
     "text": [
      "            24          -0.41282        0.788\n"
     ]
    },
    {
     "name": "stdout",
     "output_type": "stream",
     "text": [
      "            25          -0.40894        0.787\n"
     ]
    },
    {
     "name": "stdout",
     "output_type": "stream",
     "text": [
      "            26          -0.40534        0.787\n"
     ]
    },
    {
     "name": "stdout",
     "output_type": "stream",
     "text": [
      "            27          -0.40199        0.788\n"
     ]
    },
    {
     "name": "stdout",
     "output_type": "stream",
     "text": [
      "            28          -0.39886        0.788\n"
     ]
    },
    {
     "name": "stdout",
     "output_type": "stream",
     "text": [
      "            29          -0.39592        0.788\n"
     ]
    },
    {
     "name": "stdout",
     "output_type": "stream",
     "text": [
      "            30          -0.39317        0.788\n"
     ]
    },
    {
     "name": "stdout",
     "output_type": "stream",
     "text": [
      "            31          -0.39058        0.788\n"
     ]
    },
    {
     "name": "stdout",
     "output_type": "stream",
     "text": [
      "            32          -0.38814        0.789\n"
     ]
    },
    {
     "name": "stdout",
     "output_type": "stream",
     "text": [
      "            33          -0.38584        0.789\n"
     ]
    },
    {
     "name": "stdout",
     "output_type": "stream",
     "text": [
      "            34          -0.38366        0.790\n"
     ]
    },
    {
     "name": "stdout",
     "output_type": "stream",
     "text": [
      "            35          -0.38159        0.790\n"
     ]
    },
    {
     "name": "stdout",
     "output_type": "stream",
     "text": [
      "            36          -0.37962        0.790\n"
     ]
    },
    {
     "name": "stdout",
     "output_type": "stream",
     "text": [
      "            37          -0.37776        0.790\n"
     ]
    },
    {
     "name": "stdout",
     "output_type": "stream",
     "text": [
      "            38          -0.37598        0.790\n"
     ]
    },
    {
     "name": "stdout",
     "output_type": "stream",
     "text": [
      "            39          -0.37428        0.791\n"
     ]
    },
    {
     "name": "stdout",
     "output_type": "stream",
     "text": [
      "            40          -0.37266        0.791\n"
     ]
    },
    {
     "name": "stdout",
     "output_type": "stream",
     "text": [
      "            41          -0.37111        0.791\n"
     ]
    },
    {
     "name": "stdout",
     "output_type": "stream",
     "text": [
      "            42          -0.36963        0.791\n"
     ]
    },
    {
     "name": "stdout",
     "output_type": "stream",
     "text": [
      "            43          -0.36821        0.793\n"
     ]
    },
    {
     "name": "stdout",
     "output_type": "stream",
     "text": [
      "            44          -0.36685        0.791\n"
     ]
    },
    {
     "name": "stdout",
     "output_type": "stream",
     "text": [
      "            45          -0.36554        0.791\n"
     ]
    },
    {
     "name": "stdout",
     "output_type": "stream",
     "text": [
      "            46          -0.36428        0.791\n"
     ]
    },
    {
     "name": "stdout",
     "output_type": "stream",
     "text": [
      "            47          -0.36307        0.791\n"
     ]
    },
    {
     "name": "stdout",
     "output_type": "stream",
     "text": [
      "            48          -0.36191        0.791\n"
     ]
    },
    {
     "name": "stdout",
     "output_type": "stream",
     "text": [
      "            49          -0.36079        0.791\n"
     ]
    },
    {
     "name": "stdout",
     "output_type": "stream",
     "text": [
      "            50          -0.35970        0.791\n"
     ]
    },
    {
     "name": "stdout",
     "output_type": "stream",
     "text": [
      "            51          -0.35866        0.791\n"
     ]
    },
    {
     "name": "stdout",
     "output_type": "stream",
     "text": [
      "            52          -0.35765        0.791\n"
     ]
    },
    {
     "name": "stdout",
     "output_type": "stream",
     "text": [
      "            53          -0.35667        0.791\n"
     ]
    },
    {
     "name": "stdout",
     "output_type": "stream",
     "text": [
      "            54          -0.35573        0.791\n"
     ]
    },
    {
     "name": "stdout",
     "output_type": "stream",
     "text": [
      "            55          -0.35482        0.791\n"
     ]
    },
    {
     "name": "stdout",
     "output_type": "stream",
     "text": [
      "            56          -0.35393        0.791\n"
     ]
    },
    {
     "name": "stdout",
     "output_type": "stream",
     "text": [
      "            57          -0.35307        0.791\n"
     ]
    },
    {
     "name": "stdout",
     "output_type": "stream",
     "text": [
      "            58          -0.35224        0.791\n"
     ]
    },
    {
     "name": "stdout",
     "output_type": "stream",
     "text": [
      "            59          -0.35144        0.791\n"
     ]
    },
    {
     "name": "stdout",
     "output_type": "stream",
     "text": [
      "            60          -0.35065        0.791\n"
     ]
    },
    {
     "name": "stdout",
     "output_type": "stream",
     "text": [
      "            61          -0.34989        0.791\n"
     ]
    },
    {
     "name": "stdout",
     "output_type": "stream",
     "text": [
      "            62          -0.34915        0.791\n"
     ]
    },
    {
     "name": "stdout",
     "output_type": "stream",
     "text": [
      "            63          -0.34843        0.793\n"
     ]
    },
    {
     "name": "stdout",
     "output_type": "stream",
     "text": [
      "            64          -0.34773        0.793\n"
     ]
    },
    {
     "name": "stdout",
     "output_type": "stream",
     "text": [
      "            65          -0.34705        0.793\n"
     ]
    },
    {
     "name": "stdout",
     "output_type": "stream",
     "text": [
      "            66          -0.34639        0.793\n"
     ]
    },
    {
     "name": "stdout",
     "output_type": "stream",
     "text": [
      "            67          -0.34574        0.793\n"
     ]
    },
    {
     "name": "stdout",
     "output_type": "stream",
     "text": [
      "            68          -0.34512        0.793\n"
     ]
    },
    {
     "name": "stdout",
     "output_type": "stream",
     "text": [
      "            69          -0.34450        0.793\n"
     ]
    },
    {
     "name": "stdout",
     "output_type": "stream",
     "text": [
      "            70          -0.34390        0.793\n"
     ]
    },
    {
     "name": "stdout",
     "output_type": "stream",
     "text": [
      "            71          -0.34332        0.793\n"
     ]
    },
    {
     "name": "stdout",
     "output_type": "stream",
     "text": [
      "            72          -0.34275        0.793\n"
     ]
    },
    {
     "name": "stdout",
     "output_type": "stream",
     "text": [
      "            73          -0.34220        0.793\n"
     ]
    },
    {
     "name": "stdout",
     "output_type": "stream",
     "text": [
      "            74          -0.34165        0.793\n"
     ]
    },
    {
     "name": "stdout",
     "output_type": "stream",
     "text": [
      "            75          -0.34112        0.793\n"
     ]
    },
    {
     "name": "stdout",
     "output_type": "stream",
     "text": [
      "            76          -0.34060        0.793\n"
     ]
    },
    {
     "name": "stdout",
     "output_type": "stream",
     "text": [
      "            77          -0.34010        0.793\n"
     ]
    },
    {
     "name": "stdout",
     "output_type": "stream",
     "text": [
      "            78          -0.33960        0.793\n"
     ]
    },
    {
     "name": "stdout",
     "output_type": "stream",
     "text": [
      "            79          -0.33912        0.793\n"
     ]
    },
    {
     "name": "stdout",
     "output_type": "stream",
     "text": [
      "            80          -0.33864        0.793\n"
     ]
    },
    {
     "name": "stdout",
     "output_type": "stream",
     "text": [
      "            81          -0.33818        0.793\n"
     ]
    },
    {
     "name": "stdout",
     "output_type": "stream",
     "text": [
      "            82          -0.33772        0.791\n"
     ]
    },
    {
     "name": "stdout",
     "output_type": "stream",
     "text": [
      "            83          -0.33728        0.791\n"
     ]
    },
    {
     "name": "stdout",
     "output_type": "stream",
     "text": [
      "            84          -0.33684        0.791\n"
     ]
    },
    {
     "name": "stdout",
     "output_type": "stream",
     "text": [
      "            85          -0.33641        0.791\n"
     ]
    },
    {
     "name": "stdout",
     "output_type": "stream",
     "text": [
      "            86          -0.33599        0.791\n"
     ]
    },
    {
     "name": "stdout",
     "output_type": "stream",
     "text": [
      "            87          -0.33558        0.791\n"
     ]
    },
    {
     "name": "stdout",
     "output_type": "stream",
     "text": [
      "            88          -0.33518        0.791\n"
     ]
    },
    {
     "name": "stdout",
     "output_type": "stream",
     "text": [
      "            89          -0.33479        0.793\n"
     ]
    },
    {
     "name": "stdout",
     "output_type": "stream",
     "text": [
      "            90          -0.33440        0.793\n"
     ]
    },
    {
     "name": "stdout",
     "output_type": "stream",
     "text": [
      "            91          -0.33402        0.793\n"
     ]
    },
    {
     "name": "stdout",
     "output_type": "stream",
     "text": [
      "            92          -0.33364        0.793\n"
     ]
    },
    {
     "name": "stdout",
     "output_type": "stream",
     "text": [
      "            93          -0.33328        0.793\n"
     ]
    },
    {
     "name": "stdout",
     "output_type": "stream",
     "text": [
      "            94          -0.33292        0.793\n"
     ]
    },
    {
     "name": "stdout",
     "output_type": "stream",
     "text": [
      "            95          -0.33256        0.793\n"
     ]
    },
    {
     "name": "stdout",
     "output_type": "stream",
     "text": [
      "            96          -0.33222        0.793\n"
     ]
    },
    {
     "name": "stdout",
     "output_type": "stream",
     "text": [
      "            97          -0.33188        0.793\n"
     ]
    },
    {
     "name": "stdout",
     "output_type": "stream",
     "text": [
      "            98          -0.33154        0.793\n"
     ]
    },
    {
     "name": "stdout",
     "output_type": "stream",
     "text": [
      "            99          -0.33121        0.793\n"
     ]
    },
    {
     "name": "stdout",
     "output_type": "stream",
     "text": [
      "         Final          -0.33089        0.793\n0.428057553957\n"
     ]
    }
   ],
   "source": [
    "# =================================================================================================\n",
    "#     Text Parsing and Tokenizing\n",
    "# =================================================================================================\n",
    "import re\n",
    "\n",
    "NOT_FOUND = -1\n",
    "\n",
    "# This will store categories in the first column and news in the second column\n",
    "categories = []\n",
    "texts = []\n",
    "\n",
    "# Reads the file all at once\n",
    "newsFile = open(\"news_data.xml\", 'r')\n",
    "rawText = newsFile.read()\n",
    "newsFile.close()\n",
    "\n",
    "# Keyword length\n",
    "CATEGORY_LENGTH = len('category=\"')\n",
    "TEXT_LENGTH = len(\"<text>\")\n",
    "\n",
    "# A cursor to read through the file\n",
    "textPointer = 0                                         # Starts at the first character of file\n",
    "textPointer = rawText.find(\"category=\", textPointer)    # Searches for the next category\n",
    "\n",
    "# Iterates through the text searching for categories and non-empty texts\n",
    "# Stores everything at the variable \"data\"\n",
    "while textPointer != NOT_FOUND:\n",
    "    # Caches the new category\n",
    "    textPointer += CATEGORY_LENGTH\n",
    "    categoryEnd = rawText.find('\"', textPointer)\n",
    "    currentCategory = rawText[textPointer : categoryEnd]\n",
    "\n",
    "    # Searches for the text\n",
    "    textPointer = rawText.find(\"<text>\", categoryEnd) + TEXT_LENGTH\n",
    "    textEnd = rawText.find(\"</text>\", textPointer)\n",
    "    currentText = rawText[textPointer: textEnd].lower().decode(\"utf-8\")\n",
    "\n",
    "    ## Tokenizes\n",
    "    # Removes punctuation\n",
    "    currentText = re.sub('[\\)\\(@#$|,!.:;?]', ' ', currentText)\n",
    "\n",
    "    # Converts to list and filters some noise\n",
    "    currentText = currentText.split()\n",
    "    if currentText != []:\n",
    "        currentText = filter(lambda a: (a != '-'), currentText) # Filters some noise\n",
    "\n",
    "        # Stores results\n",
    "        categories.append(currentCategory)\n",
    "        texts.append(currentText)\n",
    "\n",
    "    # Prepares for next cycle\n",
    "    textPointer = rawText.find(\"category=\", textPointer)\n",
    "\n",
    "\n",
    "\n",
    "# =================================================================================================\n",
    "#     Stop Word Removal and Stemming\n",
    "# =================================================================================================\n",
    "import nltk\n",
    "\n",
    "# N_TOTAL = int(0.2 * len(texts))\n",
    "N_TOTAL = len(texts)\n",
    "\n",
    "# Stop Words\n",
    "for stopword in nltk.corpus.stopwords.words('portuguese'):\n",
    "    for i in xrange(N_TOTAL):\n",
    "        texts[i] = filter(lambda a: (a.lower() != stopword.lower()), texts[i])\n",
    "\n",
    "# Stemming\n",
    "PTsTemmer = nltk.stem.RSLPStemmer()\n",
    "for i in xrange(N_TOTAL):\n",
    "    for j in xrange(len(texts[i])):\n",
    "        texts[i][j] = PTsTemmer.stem(texts[i][j])\n",
    "\n",
    "\n",
    "\n",
    "# =================================================================================================\n",
    "#     Defining Features\n",
    "# =================================================================================================\n",
    "CATEGORY_COLUMN = 0\n",
    "TEXT_COLUMN = 1\n",
    "\n",
    "\n",
    "WORD_COLUMN = 0\n",
    "FREQUENCY_COLUMN = 1\n",
    "FEATURE_COUNT = 1\n",
    "\n",
    "N_FIT = int(0.5 * N_TOTAL)\n",
    "\n",
    "def getFeatures (text):\n",
    "    fd = nltk.FreqDist(word for word in text)\n",
    "\n",
    "    # Most frequent words\n",
    "    wordFreq = []\n",
    "    for word in list(fd.keys()[:20]):\n",
    "        wordFreq.append([word, fd[word]])\n",
    "\n",
    "    # Sorts by frequency (highest frequency first)\n",
    "    wordFreq = sorted(wordFreq, key=lambda tuple: -tuple[FREQUENCY_COLUMN])[:FEATURE_COUNT]\n",
    "\n",
    "    features = {}\n",
    "    for i in xrange(min(FEATURE_COUNT, len(wordFreq))):\n",
    "        features['w%d' % i] = wordFreq[i][WORD_COLUMN]\n",
    "        features['f%d' % i] = wordFreq[i][FREQUENCY_COLUMN]\n",
    "\n",
    "    return features\n",
    "\n",
    "# Set Features\n",
    "featureSets= [(getFeatures(text), category) for (text, category) in zip(texts, categories)]\n",
    "\n",
    "trainSet, testSet = featureSets[:N_FIT], featureSets[N_FIT:]\n",
    "\n",
    "naiveBayes = nltk.NaiveBayesClassifier.train(trainSet)\n",
    "print nltk.classify.accuracy(naiveBayes, testSet)\n",
    "\n",
    "maxEntropy = nltk.MaxentClassifier.train(trainSet)\n",
    "print nltk.classify.accuracy(maxEntropy, testSet)"
   ]
  },
  {
   "cell_type": "code",
   "execution_count": null,
   "metadata": {},
   "outputs": [],
   "source": [
    ""
   ]
  }
 ],
 "metadata": {
  "kernelspec": {
   "display_name": "Python 2",
   "language": "python",
   "name": "python2"
  },
  "language_info": {
   "codemirror_mode": {
    "name": "ipython",
    "version": 2.0
   },
   "file_extension": ".py",
   "mimetype": "text/x-python",
   "name": "python",
   "nbconvert_exporter": "python",
   "pygments_lexer": "ipython2",
   "version": "2.7.6"
  }
 },
 "nbformat": 4,
 "nbformat_minor": 0
}